{
 "cells": [
  {
   "cell_type": "code",
   "execution_count": 3,
   "metadata": {},
   "outputs": [
    {
     "name": "stdout",
     "output_type": "stream",
     "text": [
      "Looking in indexes: https://pypi.org/simple, https://pypi.ngc.nvidia.com\n",
      "Collecting git+https://github.com/openai/CLIP.git\n",
      "  Cloning https://github.com/openai/CLIP.git to c:\\users\\great\\appdata\\local\\temp\\pip-req-build-_i6bgcn6\n",
      "  Resolved https://github.com/openai/CLIP.git to commit a1d071733d7111c9c014f024669f959182114e33\n",
      "  Preparing metadata (setup.py): started\n",
      "  Preparing metadata (setup.py): finished with status 'done'\n",
      "Requirement already satisfied: ftfy in c:\\users\\great\\appdata\\local\\programs\\python\\python310\\lib\\site-packages (from clip==1.0) (6.1.1)\n",
      "Requirement already satisfied: regex in c:\\users\\great\\appdata\\local\\programs\\python\\python310\\lib\\site-packages (from clip==1.0) (2023.8.8)\n",
      "Requirement already satisfied: tqdm in c:\\users\\great\\appdata\\local\\programs\\python\\python310\\lib\\site-packages (from clip==1.0) (4.65.0)\n",
      "Requirement already satisfied: torch in c:\\users\\great\\appdata\\local\\programs\\python\\python310\\lib\\site-packages (from clip==1.0) (2.0.1+cu118)\n",
      "Requirement already satisfied: torchvision in c:\\users\\great\\appdata\\local\\programs\\python\\python310\\lib\\site-packages (from clip==1.0) (0.15.2)\n",
      "Requirement already satisfied: wcwidth>=0.2.5 in c:\\users\\great\\appdata\\roaming\\python\\python310\\site-packages (from ftfy->clip==1.0) (0.2.6)\n",
      "Requirement already satisfied: filelock in c:\\users\\great\\appdata\\local\\programs\\python\\python310\\lib\\site-packages (from torch->clip==1.0) (3.12.2)\n",
      "Requirement already satisfied: typing-extensions in c:\\users\\great\\appdata\\local\\programs\\python\\python310\\lib\\site-packages (from torch->clip==1.0) (4.6.3)\n",
      "Requirement already satisfied: sympy in c:\\users\\great\\appdata\\local\\programs\\python\\python310\\lib\\site-packages (from torch->clip==1.0) (1.12)\n",
      "Requirement already satisfied: networkx in c:\\users\\great\\appdata\\local\\programs\\python\\python310\\lib\\site-packages (from torch->clip==1.0) (3.1)\n",
      "Requirement already satisfied: jinja2 in c:\\users\\great\\appdata\\local\\programs\\python\\python310\\lib\\site-packages (from torch->clip==1.0) (3.1.2)\n",
      "Requirement already satisfied: numpy in c:\\users\\great\\appdata\\local\\programs\\python\\python310\\lib\\site-packages (from torchvision->clip==1.0) (1.25.2)\n",
      "Requirement already satisfied: requests in c:\\users\\great\\appdata\\local\\programs\\python\\python310\\lib\\site-packages (from torchvision->clip==1.0) (2.31.0)\n",
      "Requirement already satisfied: pillow!=8.3.*,>=5.3.0 in c:\\users\\great\\appdata\\local\\programs\\python\\python310\\lib\\site-packages (from torchvision->clip==1.0) (9.5.0)\n",
      "Requirement already satisfied: colorama in c:\\users\\great\\appdata\\roaming\\python\\python310\\site-packages (from tqdm->clip==1.0) (0.4.6)\n",
      "Requirement already satisfied: MarkupSafe>=2.0 in c:\\users\\great\\appdata\\local\\programs\\python\\python310\\lib\\site-packages (from jinja2->torch->clip==1.0) (2.1.3)\n",
      "Requirement already satisfied: charset-normalizer<4,>=2 in c:\\users\\great\\appdata\\local\\programs\\python\\python310\\lib\\site-packages (from requests->torchvision->clip==1.0) (3.1.0)\n",
      "Requirement already satisfied: idna<4,>=2.5 in c:\\users\\great\\appdata\\local\\programs\\python\\python310\\lib\\site-packages (from requests->torchvision->clip==1.0) (3.4)\n",
      "Requirement already satisfied: urllib3<3,>=1.21.1 in c:\\users\\great\\appdata\\local\\programs\\python\\python310\\lib\\site-packages (from requests->torchvision->clip==1.0) (1.26.16)\n",
      "Requirement already satisfied: certifi>=2017.4.17 in c:\\users\\great\\appdata\\local\\programs\\python\\python310\\lib\\site-packages (from requests->torchvision->clip==1.0) (2023.5.7)\n",
      "Requirement already satisfied: mpmath>=0.19 in c:\\users\\great\\appdata\\local\\programs\\python\\python310\\lib\\site-packages (from sympy->torch->clip==1.0) (1.3.0)\n"
     ]
    },
    {
     "name": "stderr",
     "output_type": "stream",
     "text": [
      "WARNING: Ignoring invalid distribution -orch (c:\\users\\great\\appdata\\local\\programs\\python\\python310\\lib\\site-packages)\n",
      "  Running command git clone --filter=blob:none --quiet https://github.com/openai/CLIP.git 'C:\\Users\\great\\AppData\\Local\\Temp\\pip-req-build-_i6bgcn6'\n",
      "WARNING: Ignoring invalid distribution -orch (c:\\users\\great\\appdata\\local\\programs\\python\\python310\\lib\\site-packages)\n"
     ]
    }
   ],
   "source": [
    "!pip install git+https://github.com/openai/CLIP.git\n"
   ]
  },
  {
   "cell_type": "code",
   "execution_count": null,
   "metadata": {},
   "outputs": [],
   "source": []
  }
 ],
 "metadata": {
  "kernelspec": {
   "display_name": "Python 3",
   "language": "python",
   "name": "python3"
  },
  "language_info": {
   "codemirror_mode": {
    "name": "ipython",
    "version": 3
   },
   "file_extension": ".py",
   "mimetype": "text/x-python",
   "name": "python",
   "nbconvert_exporter": "python",
   "pygments_lexer": "ipython3",
   "version": "3.10.11"
  },
  "orig_nbformat": 4
 },
 "nbformat": 4,
 "nbformat_minor": 2
}
